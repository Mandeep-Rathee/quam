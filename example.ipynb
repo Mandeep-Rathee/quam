{
 "cells": [
  {
   "cell_type": "code",
   "execution_count": 1,
   "metadata": {},
   "outputs": [
    {
     "name": "stderr",
     "output_type": "stream",
     "text": [
      "/home/rathee/p-graph/p-graph/lib/python3.11/site-packages/tqdm/auto.py:21: TqdmWarning: IProgress not found. Please update jupyter and ipywidgets. See https://ipywidgets.readthedocs.io/en/stable/user_install.html\n",
      "  from .autonotebook import tqdm as notebook_tqdm\n",
      "PyTerrier 0.10.0 has loaded Terrier 5.8 (built by craigm on 2023-11-01 18:05) and terrier-helper 0.0.8\n",
      "\n",
      "No etc/terrier.properties, using terrier.default.properties for bootstrap configuration.\n"
     ]
    }
   ],
   "source": [
    "import pyterrier as pt\n",
    "pt.init()\n",
    "from pyterrier_t5 import MonoT5ReRanker\n",
    "from pyterrier_pisa import PisaIndex\n",
    "from pyterrier_adaptive import GAR, CorpusGraph"
   ]
  },
  {
   "cell_type": "code",
   "execution_count": null,
   "metadata": {},
   "outputs": [],
   "source": [
    "\n",
    "\n",
    "dataset = pt.get_dataset('irds:msmarco-passage')\n",
    "retriever = PisaIndex.from_dataset('msmarco_passage').bm25()\n",
    "scorer = pt.text.get_text(dataset, 'text') >> MonoT5ReRanker(verbose=False, batch_size=1)\n",
    "graph = CorpusGraph.from_dataset('msmarco_passage', 'corpusgraph_bm25_k16').to_limit_k(16)\n",
    "graph_2 = CorpusGraph.load(\"msmarco-passage.gbm25.1024\").to_limit_k(16)\n",
    "\n",
    "print(graph_2)\n",
    "print(\"#\"*100)\n",
    "nbh = graph_2.neighbours(docid='0')\n",
    "\n",
    "\n",
    "\n",
    "print(\"Neighbors\", nbh, len(nbh))\n",
    "print(len(graph_2.edges_data), graph_2.edges_data[100])\n",
    "print(graph_2.weights_data)\n",
    "print(\"#\"*100)\n",
    "\n",
    "graph_3 = graph_2.sparsify_randomly(5) \n",
    "\n",
    "nbh = graph_3.neighbours(docid='2180710')\n",
    "print(\"Neighbors\", nbh, len(nbh))\n",
    "# print(len(graph_3.edges_data), graph_3.edges_data[100])\n",
    "# print(graph_3.weights_data)\n",
    "\n",
    "\n",
    "\n",
    "\n",
    "pipeline = retriever >> GAR(scorer, graph.sparsify_randomly(5)) >> pt.text.get_text(dataset, 'text')\n",
    "search_results = pipeline.search('clustering hypothesis information retrieval')\n",
    "print(search_results)\n",
    "\n",
    "\n",
    "\n",
    "# qid                                        query    docno  rank       score  iteration                                               text\n",
    "#   1  clustering hypothesis information retrieval  2180710     0   -0.017059          0  Cluster analysis or clustering is the task of ...\n",
    "#   1  clustering hypothesis information retrieval  8430269     1   -0.166563          1  Clustering is the grouping of a particular set...\n",
    "#   1  clustering hypothesis information retrieval  1091429     2   -0.208345          1  Clustering is a fundamental data analysis meth...\n",
    "#   1  clustering hypothesis information retrieval  2180711     3   -0.341018          5  Cluster analysis or clustering is the task of ...\n",
    "#   1  clustering hypothesis information retrieval  6031959     4   -0.367014          5  Cluster analysis or clustering is the task of ...\n",
    "#  ..                                          ...      ...   ...         ...        ...                                                ...\n",
    "#                iteration column indicates which GAR batch the document was scored in ^\n",
    "#                even=initial retrieval   odd=corpus graph    -1=backfilled"
   ]
  },
  {
   "cell_type": "code",
   "execution_count": null,
   "metadata": {},
   "outputs": [],
   "source": [
    "from pyterrier.measures import *\n",
    "dataset = pt.get_dataset('irds:msmarco-passage/trec-dl-2019/judged')\n",
    "\n",
    "print(dataset)\n",
    "pt.Experiment(\n",
    "    [retriever, retriever >> scorer, retriever >> GAR(scorer, graph)],\n",
    "    dataset.get_topics(),\n",
    "    dataset.get_qrels(),\n",
    "    [nDCG, MAP(rel=2), R(rel=2)@1000],\n",
    "    names=['bm25', 'bm25 >> monot5', 'bm25 >> GAR(monot5)']\n",
    ")"
   ]
  },
  {
   "cell_type": "code",
   "execution_count": 1,
   "metadata": {},
   "outputs": [
    {
     "name": "stderr",
     "output_type": "stream",
     "text": [
      "/home/rathee/quam/p-graph/lib/python3.11/site-packages/tqdm/auto.py:21: TqdmWarning: IProgress not found. Please update jupyter and ipywidgets. See https://ipywidgets.readthedocs.io/en/stable/user_install.html\n",
      "  from .autonotebook import tqdm as notebook_tqdm\n",
      "PyTerrier 0.10.0 has loaded Terrier 5.9 (built by craigm on 2024-05-02 17:40) and terrier-helper 0.0.8\n",
      "\n",
      "No etc/terrier.properties, using terrier.default.properties for bootstrap configuration.\n"
     ]
    }
   ],
   "source": [
    "import pyterrier as pt\n",
    "pt.init()\n",
    "from pyterrier_t5 import MonoT5ReRanker\n",
    "from pyterrier_pisa import PisaIndex\n",
    "from pyterrier_adaptive import GAR, CorpusGraph"
   ]
  },
  {
   "cell_type": "code",
   "execution_count": 8,
   "metadata": {},
   "outputs": [
    {
     "name": "stdout",
     "output_type": "stream",
     "text": [
      "15:24:45.866 [main] WARN org.terrier.querying.ApplyTermPipeline - The index has no termpipelines configuration, and no control configuration is found. Defaulting to global termpipelines configuration of 'Stopwords,PorterStemmer'. Set a termpipelines control to remove this warning.\n",
      "  qid docno                                   text  rank     score  \\\n",
      "0  q1    d1  professor protor poured the chemicals     0 -2.321928   \n",
      "1  q1    d2  chemical brothers turned up the beats     1 -2.321928   \n",
      "\n",
      "                query  \n",
      "0  chemical reactions  \n",
      "1  chemical reactions  \n"
     ]
    }
   ],
   "source": [
    "import pandas as pd\n",
    "df = pd.DataFrame(\n",
    "    [\n",
    "        [\"q1\", \"chemical reactions\", \"d1\", \"professor protor poured the chemicals\"],\n",
    "        [\"q1\", \"chemical reactions\", \"d2\", \"chemical brothers turned up the beats\"],\n",
    "    ], columns=[\"qid\", \"query\",\"docno\", \"text\"])\n",
    "textscorer = pt.batchretrieve.TextScorer(takes=\"docs\", body_attr=\"text\", wmodel=\"BM25\")\n",
    "rtr = textscorer.transform(df)\n",
    "\n",
    "print(rtr)"
   ]
  },
  {
   "cell_type": "code",
   "execution_count": 13,
   "metadata": {},
   "outputs": [
    {
     "data": {
      "text/html": [
       "<div>\n",
       "<style scoped>\n",
       "    .dataframe tbody tr th:only-of-type {\n",
       "        vertical-align: middle;\n",
       "    }\n",
       "\n",
       "    .dataframe tbody tr th {\n",
       "        vertical-align: top;\n",
       "    }\n",
       "\n",
       "    .dataframe thead th {\n",
       "        text-align: right;\n",
       "    }\n",
       "</style>\n",
       "<table border=\"1\" class=\"dataframe\">\n",
       "  <thead>\n",
       "    <tr style=\"text-align: right;\">\n",
       "      <th></th>\n",
       "      <th>qid</th>\n",
       "      <th>query</th>\n",
       "      <th>docno</th>\n",
       "      <th>text</th>\n",
       "      <th>docid</th>\n",
       "    </tr>\n",
       "  </thead>\n",
       "  <tbody>\n",
       "    <tr>\n",
       "      <th>0</th>\n",
       "      <td>q1</td>\n",
       "      <td>chemical reactions</td>\n",
       "      <td>d1</td>\n",
       "      <td>professor protor poured the chemicals</td>\n",
       "      <td>1</td>\n",
       "    </tr>\n",
       "    <tr>\n",
       "      <th>1</th>\n",
       "      <td>q1</td>\n",
       "      <td>chemical reactions</td>\n",
       "      <td>d2</td>\n",
       "      <td>chemical brothers turned up the beats</td>\n",
       "      <td>2</td>\n",
       "    </tr>\n",
       "  </tbody>\n",
       "</table>\n",
       "</div>"
      ],
      "text/plain": [
       "  qid               query docno                                   text  docid\n",
       "0  q1  chemical reactions    d1  professor protor poured the chemicals      1\n",
       "1  q1  chemical reactions    d2  chemical brothers turned up the beats      2"
      ]
     },
     "execution_count": 13,
     "metadata": {},
     "output_type": "execute_result"
    }
   ],
   "source": []
  },
  {
   "cell_type": "code",
   "execution_count": 23,
   "metadata": {},
   "outputs": [],
   "source": [
    "batch_size = 64\n",
    "\n",
    "t5c50 = [187.48, 187.80, 187.75, 187.74, 187.77]\n",
    "t5c100 = [355.21, 355.67, 355.68, 356.09, 356.03]\n",
    "t5c250 = [877.27, 877.10, 875.66, 874.03, 875.75]\n",
    "t5c500 =[1748.35, 1748.71,1748.55, 1748.90, 1748.62]\n",
    "\n",
    "t5c750 = [2606.68,2606.04,2606.90, 2606.15, 2604.43]\n",
    "t5c1000 = [3481.02, 3479.99, 3481.54, 3478.95, 3476.82]\n",
    "\n",
    "\n",
    "\n",
    "\n",
    "quamc50 = [3.38, 3.39, 3.38,3.38, 3.39 ]  # 258.81 , 10\n",
    "quamc100 = [7.47, 7.50, 7.49, 7.55, 7.56]  #  510.66, 30\n",
    "quamc250 = [16.76, 16.82, 16.75, 16.84, 16.74 ] ## 1263.16, 50                               \n",
    "quamc500 = [36.02, 36.09, 36.10, 36.09, 36.01]  #2519.44   , 100\n",
    "quamc750 = [57.65, 56.73, 56.73, 57.77, 57.93] # 3715.49    ,  150\n",
    "quamc1000 = [96.43, 95.10, 95.89, 95.68, 95.53]  #4921.22  , 300\n",
    "\n",
    "\n",
    "\n",
    "batch_size = 16\n",
    "\n",
    "# quamc50 = [4.47, 4.43, 4.48, 4.41, 4.43 ]  # 255.98 , 10\n",
    "# quamc100 = [9.40, 9.40, 9.43, 9.43, 9.45]  #481.56, 30\n",
    "# quamc250 = [21.29, 21.24, 21.16, 21.22, 21.04]  # 1178.04, 50\n",
    "# quamc500 = [49.65,49.74, 49.71, 49.70, 49.63 ] # 2360 , 100\n",
    "# quamc750 = [76.17, 76.71, 77.02,76.06, 76.17 ] # 3525.37, 150\n",
    "# quamc1000 = [117.42, 120.70, 117.08 , 117.31, 117.05]  # 4704.588, 300\n"
   ]
  },
  {
   "cell_type": "code",
   "execution_count": 25,
   "metadata": {},
   "outputs": [
    {
     "name": "stdout",
     "output_type": "stream",
     "text": [
      "95.726 0.43701716213439856\n"
     ]
    }
   ],
   "source": [
    "import numpy as np\n",
    "\n",
    "t5std = np.std(quamc1000)\n",
    "mean = np.mean(quamc1000)\n",
    "print(mean, t5std)"
   ]
  },
  {
   "cell_type": "code",
   "execution_count": 26,
   "metadata": {},
   "outputs": [],
   "source": [
    "batch_size = 64\n",
    "\n",
    "\n",
    "garc50 = [2.64, 2.64, 2.64, 2.66, 2.63]\n",
    "garc100 = [5.56, 5.54, 5.57, 5.54, 5.51]\n",
    "garc250 = [19.32, 19.62, 19.62, 19.57, 19.62]\n",
    "garc500 = [44.34, 44.26, 44.60, 44.63, 44.45]\n",
    "garc750 = [69.76, 69.65, 69.83, 69.81, 69.84]\n",
    "garc1000 = [97.78, 96.48, 96.87, 97.42, 96.72]\n",
    "\n",
    "\n",
    "\n",
    "batch_size = 16\n",
    "\n",
    "\n",
    "\n"
   ]
  },
  {
   "cell_type": "code",
   "execution_count": 33,
   "metadata": {},
   "outputs": [
    {
     "name": "stdout",
     "output_type": "stream",
     "text": [
      "97.054 0.4766382275898562\n"
     ]
    }
   ],
   "source": [
    "import numpy as np\n",
    "\n",
    "t5std = np.std(garc1000)\n",
    "mean = np.mean(garc1000)\n",
    "print(mean, t5std)"
   ]
  },
  {
   "cell_type": "code",
   "execution_count": 8,
   "metadata": {},
   "outputs": [
    {
     "data": {
      "text/plain": [
       "{1, 2, 3}"
      ]
     },
     "execution_count": 8,
     "metadata": {},
     "output_type": "execute_result"
    }
   ],
   "source": [
    "a = set([1,2,3])\n",
    "\n",
    "b = {1: \"a\", 2: \"b\", 3: \"c\"}\n",
    "\n",
    "a.intersection(b)"
   ]
  }
 ],
 "metadata": {
  "kernelspec": {
   "display_name": "p-graph",
   "language": "python",
   "name": "python3"
  },
  "language_info": {
   "codemirror_mode": {
    "name": "ipython",
    "version": 3
   },
   "file_extension": ".py",
   "mimetype": "text/x-python",
   "name": "python",
   "nbconvert_exporter": "python",
   "pygments_lexer": "ipython3",
   "version": "3.11.9"
  }
 },
 "nbformat": 4,
 "nbformat_minor": 2
}
