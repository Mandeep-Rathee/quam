{
 "cells": [
  {
   "cell_type": "code",
   "execution_count": 1,
   "metadata": {},
   "outputs": [
    {
     "name": "stderr",
     "output_type": "stream",
     "text": [
      "/home/rathee/p-graph/p-graph/lib/python3.11/site-packages/tqdm/auto.py:21: TqdmWarning: IProgress not found. Please update jupyter and ipywidgets. See https://ipywidgets.readthedocs.io/en/stable/user_install.html\n",
      "  from .autonotebook import tqdm as notebook_tqdm\n",
      "PyTerrier 0.10.0 has loaded Terrier 5.8 (built by craigm on 2023-11-01 18:05) and terrier-helper 0.0.8\n",
      "\n",
      "No etc/terrier.properties, using terrier.default.properties for bootstrap configuration.\n"
     ]
    }
   ],
   "source": [
    "import pyterrier as pt\n",
    "pt.init()\n",
    "from pyterrier_t5 import MonoT5ReRanker\n",
    "from pyterrier_pisa import PisaIndex\n",
    "from pyterrier_adaptive import GAR, CorpusGraph"
   ]
  },
  {
   "cell_type": "code",
   "execution_count": null,
   "metadata": {},
   "outputs": [],
   "source": [
    "\n",
    "\n",
    "dataset = pt.get_dataset('irds:msmarco-passage')\n",
    "retriever = PisaIndex.from_dataset('msmarco_passage').bm25()\n",
    "scorer = pt.text.get_text(dataset, 'text') >> MonoT5ReRanker(verbose=False, batch_size=1)\n",
    "graph = CorpusGraph.from_dataset('msmarco_passage', 'corpusgraph_bm25_k16').to_limit_k(16)\n",
    "graph_2 = CorpusGraph.load(\"msmarco-passage.gbm25.1024\").to_limit_k(16)\n",
    "\n",
    "print(graph_2)\n",
    "print(\"#\"*100)\n",
    "nbh = graph_2.neighbours(docid='0')\n",
    "\n",
    "\n",
    "\n",
    "print(\"Neighbors\", nbh, len(nbh))\n",
    "print(len(graph_2.edges_data), graph_2.edges_data[100])\n",
    "print(graph_2.weights_data)\n",
    "print(\"#\"*100)\n",
    "\n",
    "graph_3 = graph_2.sparsify_randomly(5) \n",
    "\n",
    "nbh = graph_3.neighbours(docid='2180710')\n",
    "print(\"Neighbors\", nbh, len(nbh))\n",
    "# print(len(graph_3.edges_data), graph_3.edges_data[100])\n",
    "# print(graph_3.weights_data)\n",
    "\n",
    "\n",
    "\n",
    "\n",
    "pipeline = retriever >> GAR(scorer, graph.sparsify_randomly(5)) >> pt.text.get_text(dataset, 'text')\n",
    "search_results = pipeline.search('clustering hypothesis information retrieval')\n",
    "print(search_results)\n",
    "\n",
    "\n",
    "\n",
    "# qid                                        query    docno  rank       score  iteration                                               text\n",
    "#   1  clustering hypothesis information retrieval  2180710     0   -0.017059          0  Cluster analysis or clustering is the task of ...\n",
    "#   1  clustering hypothesis information retrieval  8430269     1   -0.166563          1  Clustering is the grouping of a particular set...\n",
    "#   1  clustering hypothesis information retrieval  1091429     2   -0.208345          1  Clustering is a fundamental data analysis meth...\n",
    "#   1  clustering hypothesis information retrieval  2180711     3   -0.341018          5  Cluster analysis or clustering is the task of ...\n",
    "#   1  clustering hypothesis information retrieval  6031959     4   -0.367014          5  Cluster analysis or clustering is the task of ...\n",
    "#  ..                                          ...      ...   ...         ...        ...                                                ...\n",
    "#                iteration column indicates which GAR batch the document was scored in ^\n",
    "#                even=initial retrieval   odd=corpus graph    -1=backfilled"
   ]
  },
  {
   "cell_type": "code",
   "execution_count": null,
   "metadata": {},
   "outputs": [],
   "source": [
    "from pyterrier.measures import *\n",
    "dataset = pt.get_dataset('irds:msmarco-passage/trec-dl-2019/judged')\n",
    "\n",
    "print(dataset)\n",
    "pt.Experiment(\n",
    "    [retriever, retriever >> scorer, retriever >> GAR(scorer, graph)],\n",
    "    dataset.get_topics(),\n",
    "    dataset.get_qrels(),\n",
    "    [nDCG, MAP(rel=2), R(rel=2)@1000],\n",
    "    names=['bm25', 'bm25 >> monot5', 'bm25 >> GAR(monot5)']\n",
    ")"
   ]
  }
 ],
 "metadata": {
  "kernelspec": {
   "display_name": "p-graph",
   "language": "python",
   "name": "python3"
  },
  "language_info": {
   "codemirror_mode": {
    "name": "ipython",
    "version": 3
   },
   "file_extension": ".py",
   "mimetype": "text/x-python",
   "name": "python",
   "nbconvert_exporter": "python",
   "pygments_lexer": "ipython3",
   "version": "3.11.2"
  }
 },
 "nbformat": 4,
 "nbformat_minor": 2
}
