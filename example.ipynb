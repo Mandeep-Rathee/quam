{
 "cells": [
  {
   "cell_type": "code",
   "execution_count": 1,
   "metadata": {},
   "outputs": [
    {
     "name": "stderr",
     "output_type": "stream",
     "text": [
      "/home/rathee/p-graph/p-graph/lib/python3.11/site-packages/tqdm/auto.py:21: TqdmWarning: IProgress not found. Please update jupyter and ipywidgets. See https://ipywidgets.readthedocs.io/en/stable/user_install.html\n",
      "  from .autonotebook import tqdm as notebook_tqdm\n",
      "PyTerrier 0.10.0 has loaded Terrier 5.8 (built by craigm on 2023-11-01 18:05) and terrier-helper 0.0.8\n",
      "\n",
      "No etc/terrier.properties, using terrier.default.properties for bootstrap configuration.\n"
     ]
    }
   ],
   "source": [
    "import pyterrier as pt\n",
    "pt.init()\n",
    "from pyterrier_t5 import MonoT5ReRanker\n",
    "from pyterrier_pisa import PisaIndex\n",
    "from pyterrier_adaptive import GAR, CorpusGraph"
   ]
  },
  {
   "cell_type": "code",
   "execution_count": 3,
   "metadata": {},
   "outputs": [
    {
     "name": "stderr",
     "output_type": "stream",
     "text": [
      "Special tokens have been added in the vocabulary, make sure the associated word embeddings are fine-tuned or trained.\n"
     ]
    },
    {
     "name": "stdout",
     "output_type": "stream",
     "text": [
      "NpTopKCorpusGraph('msmarco-passage.gbm25.1024', k=16)\n",
      "####################################################################################################\n",
      "Neighbors ['2942572' '0' '0' '3538204' '0' '2968764' '2036653' '2942574' '5759591'\n",
      " '1140006' '0' '0' '2422192' '3870084' '2036646' '4714605'] 16\n",
      "8841823 [      0     103       0     102      99       0       0     101 3217998\n",
      " 3217994 8766645       0 8766641 2483393 1857918 3217991]\n",
      "[[ 41.6    0.     0.   ...  30.77  30.66  30.64]\n",
      " [ 55.22   0.    52.03 ...   0.    48.1   47.7 ]\n",
      " [ 47.2   40.47   0.   ...  37.44  37.12  36.94]\n",
      " ...\n",
      " [ 58.94  58.3   56.88 ...  54.53  54.44  53.4 ]\n",
      " [155.9   37.7   34.47 ...  30.95  30.61  30.05]\n",
      " [ 51.97  51.1   51.06 ...  44.38  44.3   44.12]]\n",
      "####################################################################################################\n"
     ]
    },
    {
     "ename": "KeyboardInterrupt",
     "evalue": "",
     "output_type": "error",
     "traceback": [
      "\u001b[0;31m---------------------------------------------------------------------------\u001b[0m",
      "\u001b[0;31mKeyboardInterrupt\u001b[0m                         Traceback (most recent call last)",
      "Cell \u001b[0;32mIn[3], line 18\u001b[0m\n\u001b[1;32m     15\u001b[0m \u001b[38;5;28mprint\u001b[39m(graph_2\u001b[38;5;241m.\u001b[39mweights_data)\n\u001b[1;32m     16\u001b[0m \u001b[38;5;28mprint\u001b[39m(\u001b[38;5;124m\"\u001b[39m\u001b[38;5;124m#\u001b[39m\u001b[38;5;124m\"\u001b[39m\u001b[38;5;241m*\u001b[39m\u001b[38;5;241m100\u001b[39m)\n\u001b[0;32m---> 18\u001b[0m graph_3 \u001b[38;5;241m=\u001b[39m \u001b[43mgraph_2\u001b[49m\u001b[38;5;241;43m.\u001b[39;49m\u001b[43msparsify_randomly\u001b[49m\u001b[43m(\u001b[49m\u001b[38;5;241;43m5\u001b[39;49m\u001b[43m)\u001b[49m \n\u001b[1;32m     20\u001b[0m nbh \u001b[38;5;241m=\u001b[39m graph_3\u001b[38;5;241m.\u001b[39mneighbours(docid\u001b[38;5;241m=\u001b[39m\u001b[38;5;124m'\u001b[39m\u001b[38;5;124m2180710\u001b[39m\u001b[38;5;124m'\u001b[39m)\n\u001b[1;32m     21\u001b[0m \u001b[38;5;28mprint\u001b[39m(\u001b[38;5;124m\"\u001b[39m\u001b[38;5;124mNeighbors\u001b[39m\u001b[38;5;124m\"\u001b[39m, nbh, \u001b[38;5;28mlen\u001b[39m(nbh))\n",
      "File \u001b[0;32m~/p-graph/p-graph/lib/python3.11/site-packages/pyterrier_adaptive/corpus_graph.py:212\u001b[0m, in \u001b[0;36mNpTopKCorpusGraph.sparsify_randomly\u001b[0;34m(self, ne)\u001b[0m\n\u001b[1;32m    209\u001b[0m           sparsified_graph\u001b[38;5;241m.\u001b[39m_weights_data[i, np\u001b[38;5;241m.\u001b[39mwhere(sparsified_graph\u001b[38;5;241m.\u001b[39m_edges_data[i] \u001b[38;5;241m==\u001b[39m edge)] \u001b[38;5;241m=\u001b[39m \u001b[38;5;241m0\u001b[39m\n\u001b[1;32m    211\u001b[0m   \u001b[38;5;28;01mfor\u001b[39;00m edge \u001b[38;5;129;01min\u001b[39;00m edges_to_remove:\n\u001b[0;32m--> 212\u001b[0m     node_edges[np\u001b[38;5;241m.\u001b[39mwhere(\u001b[43mnode_edges\u001b[49m\u001b[43m \u001b[49m\u001b[38;5;241;43m==\u001b[39;49m\u001b[43m \u001b[49m\u001b[43medge\u001b[49m)] \u001b[38;5;241m=\u001b[39m \u001b[38;5;241m0\u001b[39m\n\u001b[1;32m    214\u001b[0m   sparsified_graph\u001b[38;5;241m.\u001b[39m_edges_data[i] \u001b[38;5;241m=\u001b[39m node_edges\n\u001b[1;32m    217\u001b[0m \u001b[38;5;28;01mreturn\u001b[39;00m sparsified_graph\n",
      "File \u001b[0;32m~/p-graph/p-graph/lib/python3.11/site-packages/numpy/core/memmap.py:319\u001b[0m, in \u001b[0;36mmemmap.__array_wrap__\u001b[0;34m(self, arr, context)\u001b[0m\n\u001b[1;32m    316\u001b[0m     \u001b[38;5;28;01mif\u001b[39;00m \u001b[38;5;28mself\u001b[39m\u001b[38;5;241m.\u001b[39mbase \u001b[38;5;129;01mis\u001b[39;00m \u001b[38;5;129;01mnot\u001b[39;00m \u001b[38;5;28;01mNone\u001b[39;00m \u001b[38;5;129;01mand\u001b[39;00m \u001b[38;5;28mhasattr\u001b[39m(\u001b[38;5;28mself\u001b[39m\u001b[38;5;241m.\u001b[39mbase, \u001b[38;5;124m'\u001b[39m\u001b[38;5;124mflush\u001b[39m\u001b[38;5;124m'\u001b[39m):\n\u001b[1;32m    317\u001b[0m         \u001b[38;5;28mself\u001b[39m\u001b[38;5;241m.\u001b[39mbase\u001b[38;5;241m.\u001b[39mflush()\n\u001b[0;32m--> 319\u001b[0m \u001b[38;5;28;01mdef\u001b[39;00m \u001b[38;5;21m__array_wrap__\u001b[39m(\u001b[38;5;28mself\u001b[39m, arr, context\u001b[38;5;241m=\u001b[39m\u001b[38;5;28;01mNone\u001b[39;00m):\n\u001b[1;32m    320\u001b[0m     arr \u001b[38;5;241m=\u001b[39m \u001b[38;5;28msuper\u001b[39m()\u001b[38;5;241m.\u001b[39m__array_wrap__(arr, context)\n\u001b[1;32m    322\u001b[0m     \u001b[38;5;66;03m# Return a memmap if a memmap was given as the output of the\u001b[39;00m\n\u001b[1;32m    323\u001b[0m     \u001b[38;5;66;03m# ufunc. Leave the arr class unchanged if self is not a memmap\u001b[39;00m\n\u001b[1;32m    324\u001b[0m     \u001b[38;5;66;03m# to keep original memmap subclasses behavior\u001b[39;00m\n",
      "\u001b[0;31mKeyboardInterrupt\u001b[0m: "
     ]
    }
   ],
   "source": [
    "\n",
    "\n",
    "dataset = pt.get_dataset('irds:msmarco-passage')\n",
    "retriever = PisaIndex.from_dataset('msmarco_passage').bm25()\n",
    "scorer = pt.text.get_text(dataset, 'text') >> MonoT5ReRanker(verbose=False, batch_size=1)\n",
    "graph = CorpusGraph.from_dataset('msmarco_passage', 'corpusgraph_bm25_k16').to_limit_k(16)\n",
    "graph_2 = CorpusGraph.load(\"msmarco-passage.gbm25.1024\").to_limit_k(16)\n",
    "\n",
    "print(graph_2)\n",
    "print(\"#\"*100)\n",
    "nbh = graph_2.neighbours(docid='0')\n",
    "\n",
    "\n",
    "\n",
    "print(\"Neighbors\", nbh, len(nbh))\n",
    "print(len(graph_2.edges_data), graph_2.edges_data[100])\n",
    "print(graph_2.weights_data)\n",
    "print(\"#\"*100)\n",
    "\n",
    "graph_3 = graph_2.sparsify_randomly(5) \n",
    "\n",
    "nbh = graph_3.neighbours(docid='2180710')\n",
    "print(\"Neighbors\", nbh, len(nbh))\n",
    "# print(len(graph_3.edges_data), graph_3.edges_data[100])\n",
    "# print(graph_3.weights_data)\n",
    "\n",
    "\n",
    "\n",
    "\n",
    "pipeline = retriever >> GAR(scorer, graph.sparsify_randomly(5)) >> pt.text.get_text(dataset, 'text')\n",
    "search_results = pipeline.search('clustering hypothesis information retrieval')\n",
    "print(search_results)\n",
    "\n",
    "\n",
    "\n",
    "# qid                                        query    docno  rank       score  iteration                                               text\n",
    "#   1  clustering hypothesis information retrieval  2180710     0   -0.017059          0  Cluster analysis or clustering is the task of ...\n",
    "#   1  clustering hypothesis information retrieval  8430269     1   -0.166563          1  Clustering is the grouping of a particular set...\n",
    "#   1  clustering hypothesis information retrieval  1091429     2   -0.208345          1  Clustering is a fundamental data analysis meth...\n",
    "#   1  clustering hypothesis information retrieval  2180711     3   -0.341018          5  Cluster analysis or clustering is the task of ...\n",
    "#   1  clustering hypothesis information retrieval  6031959     4   -0.367014          5  Cluster analysis or clustering is the task of ...\n",
    "#  ..                                          ...      ...   ...         ...        ...                                                ...\n",
    "#                iteration column indicates which GAR batch the document was scored in ^\n",
    "#                even=initial retrieval   odd=corpus graph    -1=backfilled"
   ]
  },
  {
   "cell_type": "code",
   "execution_count": null,
   "metadata": {},
   "outputs": [],
   "source": [
    "from pyterrier.measures import *\n",
    "dataset = pt.get_dataset('irds:msmarco-passage/trec-dl-2019/judged')\n",
    "\n",
    "print(dataset)\n",
    "pt.Experiment(\n",
    "    [retriever, retriever >> scorer, retriever >> GAR(scorer, graph)],\n",
    "    dataset.get_topics(),\n",
    "    dataset.get_qrels(),\n",
    "    [nDCG, MAP(rel=2), R(rel=2)@1000],\n",
    "    names=['bm25', 'bm25 >> monot5', 'bm25 >> GAR(monot5)']\n",
    ")"
   ]
  },
  {
   "cell_type": "code",
   "execution_count": 5,
   "metadata": {},
   "outputs": [
    {
     "name": "stdout",
     "output_type": "stream",
     "text": [
      "        qid                                              query\n",
      "0    156493                                   do goldfish grow\n",
      "1   1110199                          what is wifi vs bluetooth\n",
      "2   1063750              why did the us volunterilay enter ww1\n",
      "3    130510                    definition declaratory judgment\n",
      "4    489204                           right pelvic pain causes\n",
      "5    573724         what are the social determinants of health\n",
      "6    168216        does legionella pneumophila cause pneumonia\n",
      "7   1133167                      how is the weather in jamaica\n",
      "8    527433            types of dysarthria from cerebral palsy\n",
      "9   1037798                                 who is robert gray\n",
      "10   915593          what types of food can you cook sous vide\n",
      "11   264014                     how long is life cycle of flea\n",
      "12  1121402                    what can contour plowing reduce\n",
      "13   962179                when was the salvation army founded\n",
      "14  1117099                            what is a active margin\n",
      "15   148538                      difference between rn and bsn\n",
      "16   451602    medicare s definition of mechanical ventilation\n",
      "17   359349          how to find the midsegment of a trapezoid\n",
      "18  1115776                what is an aml surveillance analyst\n",
      "19  1112341              what is the daily life of thai people\n",
      "20   131843                             definition of a sigmet\n",
      "21   104861                 cost of interior concrete flooring\n",
      "22   833860       what is the most popular food in switzerland\n",
      "23   207786                   how are some sharks warm blooded\n",
      "24  1114819       what is durable medical equipment consist of\n",
      "25   183378                           exons definition biology\n",
      "26  1106007                                    define visceral\n",
      "27  1124210                              tracheids are part of\n",
      "28   490595                                 rsa definition key\n",
      "29  1103812  who formed the commonwealth of independent states\n",
      "30    87181             causes of left ventricular hypertrophy\n",
      "31   443396                                lps laws definition\n",
      "32  1121709                      what are the three percenters\n",
      "33    87452                         causes of military suicide\n",
      "34   855410                         what is theraderm used for\n",
      "35  1114646                      what is famvir prescribed for\n",
      "36    19335          anthropological definition of environment\n",
      "37    47923         axon terminals or synaptic knob definition\n",
      "38   405717                       is cdg airport in main paris\n",
      "39   182539                      example of monotonic function\n",
      "40  1113437             what is physical description of spruce\n",
      "41  1129237        hydrogen is a liquid below what temperature\n",
      "42   146187  difference between a mcdouble and a double che...\n"
     ]
    }
   ],
   "source": [
    "dataset = pt.get_dataset('irds:msmarco-passage/trec-dl-2019/judged')\n",
    "\n",
    "print(dataset.get_topics())\n"
   ]
  },
  {
   "cell_type": "code",
   "execution_count": 12,
   "metadata": {},
   "outputs": [
    {
     "name": "stdout",
     "output_type": "stream",
     "text": [
      "0       0\n",
      "1       0\n",
      "2       0\n",
      "3       0\n",
      "4       0\n",
      "       ..\n",
      "9255    2\n",
      "9256    2\n",
      "9257    0\n",
      "9258    0\n",
      "9259    0\n",
      "Name: label, Length: 9260, dtype: int64\n"
     ]
    }
   ],
   "source": [
    "qrels_df  = dataset.get_qrels()\n",
    "print(qrels_df.label)"
   ]
  },
  {
   "cell_type": "code",
   "execution_count": 12,
   "metadata": {},
   "outputs": [
    {
     "name": "stdout",
     "output_type": "stream",
     "text": [
      "[0 1 2 3 4 5 6 7 8 9]\n"
     ]
    }
   ],
   "source": [
    "import numpy as np\n",
    "\n",
    "# Create a binary file with some data\n",
    "data = np.arange(10)\n",
    "with open('data.bin', 'wb') as f:\n",
    "    data.tofile(f)\n",
    "\n",
    "# Create a memory-mapped array to read data from the file\n",
    "memmap_array = np.memmap('data.bin', dtype=np.int64, mode='r', shape=(10,))\n",
    "\n",
    "# Access and print the memory-mapped array\n",
    "print(memmap_array)\n"
   ]
  },
  {
   "cell_type": "code",
   "execution_count": 14,
   "metadata": {},
   "outputs": [
    {
     "name": "stdout",
     "output_type": "stream",
     "text": [
      "[2.0e+000 4.9e-324 9.9e-324 1.5e-323 2.0e-323]\n"
     ]
    }
   ],
   "source": [
    "import numpy as np\n",
    "\n",
    "# Load the data from the memory-mapped file\n",
    "loaded_data = np.memmap('data.bin', dtype=np.float64, mode='r', shape=(5,))\n",
    "\n",
    "# Print the loaded data\n",
    "loaded_data_copy = loaded_data.copy()\n",
    "loaded_data_copy[0] = 2\n",
    "\n",
    "print(loaded_data_copy)"
   ]
  },
  {
   "cell_type": "code",
   "execution_count": 11,
   "metadata": {},
   "outputs": [
    {
     "data": {
      "text/plain": [
       "memmap([2.0e+000, 4.9e-324, 9.9e-324, 1.5e-323, 2.0e-323])"
      ]
     },
     "execution_count": 11,
     "metadata": {},
     "output_type": "execute_result"
    }
   ],
   "source": [
    "loaded_data = np.memmap('data.bin', dtype=np.float64, mode='r+', shape=(5,))\n",
    "loaded_data"
   ]
  },
  {
   "cell_type": "code",
   "execution_count": null,
   "metadata": {},
   "outputs": [],
   "source": []
  }
 ],
 "metadata": {
  "kernelspec": {
   "display_name": "p-graph",
   "language": "python",
   "name": "python3"
  },
  "language_info": {
   "codemirror_mode": {
    "name": "ipython",
    "version": 3
   },
   "file_extension": ".py",
   "mimetype": "text/x-python",
   "name": "python",
   "nbconvert_exporter": "python",
   "pygments_lexer": "ipython3",
   "version": "3.11.2"
  }
 },
 "nbformat": 4,
 "nbformat_minor": 2
}
